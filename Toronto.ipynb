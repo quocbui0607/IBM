{
 "cells": [
  {
   "cell_type": "markdown",
   "metadata": {},
   "source": [
    "### Import libraries"
   ]
  },
  {
   "cell_type": "code",
   "execution_count": 1,
   "metadata": {},
   "outputs": [],
   "source": [
    "import numpy as np\n",
    "import pandas as pd"
   ]
  },
  {
   "cell_type": "markdown",
   "metadata": {},
   "source": [
    "### Get DataFrame from URL"
   ]
  },
  {
   "cell_type": "code",
   "execution_count": 2,
   "metadata": {},
   "outputs": [],
   "source": [
    "url = 'https://en.wikipedia.org/wiki/List_of_postal_codes_of_Canada:_M'"
   ]
  },
  {
   "cell_type": "code",
   "execution_count": 3,
   "metadata": {},
   "outputs": [
    {
     "data": {
      "text/plain": [
       "[    Postcode           Borough  \\\n",
       " 0        M1A      Not assigned   \n",
       " 1        M2A      Not assigned   \n",
       " 2        M3A        North York   \n",
       " 3        M4A        North York   \n",
       " 4        M5A  Downtown Toronto   \n",
       " 5        M6A        North York   \n",
       " 6        M6A        North York   \n",
       " 7        M7A  Downtown Toronto   \n",
       " 8        M8A      Not assigned   \n",
       " 9        M9A      Queen's Park   \n",
       " 10       M1B       Scarborough   \n",
       " 11       M1B       Scarborough   \n",
       " 12       M2B      Not assigned   \n",
       " 13       M3B        North York   \n",
       " 14       M4B         East York   \n",
       " 15       M4B         East York   \n",
       " 16       M5B  Downtown Toronto   \n",
       " 17       M5B  Downtown Toronto   \n",
       " 18       M6B        North York   \n",
       " 19       M7B      Not assigned   \n",
       " 20       M8B      Not assigned   \n",
       " 21       M9B         Etobicoke   \n",
       " 22       M9B         Etobicoke   \n",
       " 23       M9B         Etobicoke   \n",
       " 24       M9B         Etobicoke   \n",
       " 25       M9B         Etobicoke   \n",
       " 26       M1C       Scarborough   \n",
       " 27       M1C       Scarborough   \n",
       " 28       M1C       Scarborough   \n",
       " 29       M2C      Not assigned   \n",
       " ..       ...               ...   \n",
       " 257      M9X      Not assigned   \n",
       " 258      M1Y      Not assigned   \n",
       " 259      M2Y      Not assigned   \n",
       " 260      M3Y      Not assigned   \n",
       " 261      M4Y  Downtown Toronto   \n",
       " 262      M5Y      Not assigned   \n",
       " 263      M6Y      Not assigned   \n",
       " 264      M7Y      East Toronto   \n",
       " 265      M8Y         Etobicoke   \n",
       " 266      M8Y         Etobicoke   \n",
       " 267      M8Y         Etobicoke   \n",
       " 268      M8Y         Etobicoke   \n",
       " 269      M8Y         Etobicoke   \n",
       " 270      M8Y         Etobicoke   \n",
       " 271      M8Y         Etobicoke   \n",
       " 272      M8Y         Etobicoke   \n",
       " 273      M9Y      Not assigned   \n",
       " 274      M1Z      Not assigned   \n",
       " 275      M2Z      Not assigned   \n",
       " 276      M3Z      Not assigned   \n",
       " 277      M4Z      Not assigned   \n",
       " 278      M5Z      Not assigned   \n",
       " 279      M6Z      Not assigned   \n",
       " 280      M7Z      Not assigned   \n",
       " 281      M8Z         Etobicoke   \n",
       " 282      M8Z         Etobicoke   \n",
       " 283      M8Z         Etobicoke   \n",
       " 284      M8Z         Etobicoke   \n",
       " 285      M8Z         Etobicoke   \n",
       " 286      M9Z      Not assigned   \n",
       " \n",
       "                                           Neighborhood  \n",
       " 0                                         Not assigned  \n",
       " 1                                         Not assigned  \n",
       " 2                                            Parkwoods  \n",
       " 3                                     Victoria Village  \n",
       " 4                                         Harbourfront  \n",
       " 5                                     Lawrence Heights  \n",
       " 6                                       Lawrence Manor  \n",
       " 7                                         Queen's Park  \n",
       " 8                                         Not assigned  \n",
       " 9                                         Not assigned  \n",
       " 10                                               Rouge  \n",
       " 11                                             Malvern  \n",
       " 12                                        Not assigned  \n",
       " 13                                     Don Mills North  \n",
       " 14                                    Woodbine Gardens  \n",
       " 15                                       Parkview Hill  \n",
       " 16                                             Ryerson  \n",
       " 17                                     Garden District  \n",
       " 18                                           Glencairn  \n",
       " 19                                        Not assigned  \n",
       " 20                                        Not assigned  \n",
       " 21                                          Cloverdale  \n",
       " 22                                           Islington  \n",
       " 23                                        Martin Grove  \n",
       " 24                                    Princess Gardens  \n",
       " 25                                     West Deane Park  \n",
       " 26                                      Highland Creek  \n",
       " 27                                          Rouge Hill  \n",
       " 28                                          Port Union  \n",
       " 29                                        Not assigned  \n",
       " ..                                                 ...  \n",
       " 257                                       Not assigned  \n",
       " 258                                       Not assigned  \n",
       " 259                                       Not assigned  \n",
       " 260                                       Not assigned  \n",
       " 261                               Church and Wellesley  \n",
       " 262                                       Not assigned  \n",
       " 263                                       Not assigned  \n",
       " 264  Business Reply Mail Processing Centre 969 Eastern  \n",
       " 265                                         Humber Bay  \n",
       " 266                                   King's Mill Park  \n",
       " 267                           Kingsway Park South East  \n",
       " 268                                          Mimico NE  \n",
       " 269                                     Old Mill South  \n",
       " 270                                 The Queensway East  \n",
       " 271                              Royal York South East  \n",
       " 272                                           Sunnylea  \n",
       " 273                                       Not assigned  \n",
       " 274                                       Not assigned  \n",
       " 275                                       Not assigned  \n",
       " 276                                       Not assigned  \n",
       " 277                                       Not assigned  \n",
       " 278                                       Not assigned  \n",
       " 279                                       Not assigned  \n",
       " 280                                       Not assigned  \n",
       " 281                           Kingsway Park South West  \n",
       " 282                                          Mimico NW  \n",
       " 283                                 The Queensway West  \n",
       " 284                              Royal York South West  \n",
       " 285                                     South of Bloor  \n",
       " 286                                       Not assigned  \n",
       " \n",
       " [287 rows x 3 columns],\n",
       "                                           Unnamed: 0  \\\n",
       " 0  NL NS PE NB QC ON MB SK AB BC NU/NT YT A B C E...   \n",
       " 1                                                 NL   \n",
       " 2                                                  A   \n",
       " \n",
       "                                Canadian postal codes  \\\n",
       " 0  NL NS PE NB QC ON MB SK AB BC NU/NT YT A B C E...   \n",
       " 1                                                 NS   \n",
       " 2                                                  B   \n",
       " \n",
       "                                           Unnamed: 2 Unnamed: 3 Unnamed: 4  \\\n",
       " 0  NL NS PE NB QC ON MB SK AB BC NU/NT YT A B C E...        NaN        NaN   \n",
       " 1                                                 PE         NB         QC   \n",
       " 2                                                  C          E          G   \n",
       " \n",
       "   Unnamed: 5 Unnamed: 6 Unnamed: 7 Unnamed: 8 Unnamed: 9 Unnamed: 10  \\\n",
       " 0        NaN        NaN        NaN        NaN        NaN         NaN   \n",
       " 1         QC         QC         ON         ON         ON          ON   \n",
       " 2          H          J          K          L          M           N   \n",
       " \n",
       "   Unnamed: 11 Unnamed: 12 Unnamed: 13 Unnamed: 14 Unnamed: 15 Unnamed: 16  \\\n",
       " 0         NaN         NaN         NaN         NaN         NaN         NaN   \n",
       " 1          ON          MB          SK          AB          BC       NU/NT   \n",
       " 2           P           R           S           T           V           X   \n",
       " \n",
       "   Unnamed: 17  \n",
       " 0         NaN  \n",
       " 1          YT  \n",
       " 2           Y  ,\n",
       "   NL NS PE NB QC QC.1 QC.2 ON ON.1 ON.2 ON.3 ON.4 MB SK AB BC NU/NT YT\n",
       " 0  A  B  C  E  G    H    J  K    L    M    N    P  R  S  T  V     X  Y]"
      ]
     },
     "execution_count": 3,
     "metadata": {},
     "output_type": "execute_result"
    }
   ],
   "source": [
    "data = pd.read_html(url, header = 0)\n",
    "data"
   ]
  },
  {
   "cell_type": "markdown",
   "metadata": {},
   "source": [
    "### Get data based on headings"
   ]
  },
  {
   "cell_type": "code",
   "execution_count": 31,
   "metadata": {},
   "outputs": [],
   "source": [
    "headings = ['Postcode','Borough','Neighborhood']\n",
    "for tables in data:\n",
    "    current_headings = tables.columns.values[:4]\n",
    "    if all(current_headings == headings):\n",
    "        break"
   ]
  },
  {
   "cell_type": "code",
   "execution_count": 32,
   "metadata": {},
   "outputs": [
    {
     "data": {
      "text/html": [
       "<div>\n",
       "<style scoped>\n",
       "    .dataframe tbody tr th:only-of-type {\n",
       "        vertical-align: middle;\n",
       "    }\n",
       "\n",
       "    .dataframe tbody tr th {\n",
       "        vertical-align: top;\n",
       "    }\n",
       "\n",
       "    .dataframe thead th {\n",
       "        text-align: right;\n",
       "    }\n",
       "</style>\n",
       "<table border=\"1\" class=\"dataframe\">\n",
       "  <thead>\n",
       "    <tr style=\"text-align: right;\">\n",
       "      <th></th>\n",
       "      <th>Postcode</th>\n",
       "      <th>Borough</th>\n",
       "      <th>Neighborhood</th>\n",
       "    </tr>\n",
       "  </thead>\n",
       "  <tbody>\n",
       "    <tr>\n",
       "      <th>0</th>\n",
       "      <td>M1A</td>\n",
       "      <td>Not assigned</td>\n",
       "      <td>Not assigned</td>\n",
       "    </tr>\n",
       "    <tr>\n",
       "      <th>1</th>\n",
       "      <td>M2A</td>\n",
       "      <td>Not assigned</td>\n",
       "      <td>Not assigned</td>\n",
       "    </tr>\n",
       "    <tr>\n",
       "      <th>2</th>\n",
       "      <td>M3A</td>\n",
       "      <td>North York</td>\n",
       "      <td>Parkwoods</td>\n",
       "    </tr>\n",
       "    <tr>\n",
       "      <th>3</th>\n",
       "      <td>M4A</td>\n",
       "      <td>North York</td>\n",
       "      <td>Victoria Village</td>\n",
       "    </tr>\n",
       "    <tr>\n",
       "      <th>4</th>\n",
       "      <td>M5A</td>\n",
       "      <td>Downtown Toronto</td>\n",
       "      <td>Harbourfront</td>\n",
       "    </tr>\n",
       "  </tbody>\n",
       "</table>\n",
       "</div>"
      ],
      "text/plain": [
       "  Postcode           Borough      Neighborhood\n",
       "0      M1A      Not assigned      Not assigned\n",
       "1      M2A      Not assigned      Not assigned\n",
       "2      M3A        North York         Parkwoods\n",
       "3      M4A        North York  Victoria Village\n",
       "4      M5A  Downtown Toronto      Harbourfront"
      ]
     },
     "execution_count": 32,
     "metadata": {},
     "output_type": "execute_result"
    }
   ],
   "source": [
    "tables.head()"
   ]
  },
  {
   "cell_type": "code",
   "execution_count": 6,
   "metadata": {},
   "outputs": [
    {
     "data": {
      "text/plain": [
       "array(['Not assigned', 'North York', 'Downtown Toronto', \"Queen's Park\",\n",
       "       'Scarborough', 'East York', 'Etobicoke', 'York', 'East Toronto',\n",
       "       'West Toronto', 'Central Toronto', 'Mississauga'], dtype=object)"
      ]
     },
     "execution_count": 6,
     "metadata": {},
     "output_type": "execute_result"
    }
   ],
   "source": [
    "table['Borough'].unique()"
   ]
  },
  {
   "cell_type": "code",
   "execution_count": 7,
   "metadata": {},
   "outputs": [],
   "source": [
    "### Drop 'Not assigned' in Borough columns"
   ]
  },
  {
   "cell_type": "code",
   "execution_count": 8,
   "metadata": {},
   "outputs": [
    {
     "data": {
      "text/html": [
       "<div>\n",
       "<style scoped>\n",
       "    .dataframe tbody tr th:only-of-type {\n",
       "        vertical-align: middle;\n",
       "    }\n",
       "\n",
       "    .dataframe tbody tr th {\n",
       "        vertical-align: top;\n",
       "    }\n",
       "\n",
       "    .dataframe thead th {\n",
       "        text-align: right;\n",
       "    }\n",
       "</style>\n",
       "<table border=\"1\" class=\"dataframe\">\n",
       "  <thead>\n",
       "    <tr style=\"text-align: right;\">\n",
       "      <th></th>\n",
       "      <th>Postcode</th>\n",
       "      <th>Borough</th>\n",
       "      <th>Neighborhood</th>\n",
       "    </tr>\n",
       "  </thead>\n",
       "  <tbody>\n",
       "    <tr>\n",
       "      <th>0</th>\n",
       "      <td>M3A</td>\n",
       "      <td>North York</td>\n",
       "      <td>Parkwoods</td>\n",
       "    </tr>\n",
       "    <tr>\n",
       "      <th>1</th>\n",
       "      <td>M4A</td>\n",
       "      <td>North York</td>\n",
       "      <td>Victoria Village</td>\n",
       "    </tr>\n",
       "    <tr>\n",
       "      <th>2</th>\n",
       "      <td>M5A</td>\n",
       "      <td>Downtown Toronto</td>\n",
       "      <td>Harbourfront</td>\n",
       "    </tr>\n",
       "    <tr>\n",
       "      <th>3</th>\n",
       "      <td>M6A</td>\n",
       "      <td>North York</td>\n",
       "      <td>Lawrence Heights</td>\n",
       "    </tr>\n",
       "    <tr>\n",
       "      <th>4</th>\n",
       "      <td>M6A</td>\n",
       "      <td>North York</td>\n",
       "      <td>Lawrence Manor</td>\n",
       "    </tr>\n",
       "  </tbody>\n",
       "</table>\n",
       "</div>"
      ],
      "text/plain": [
       "  Postcode           Borough      Neighborhood\n",
       "0      M3A        North York         Parkwoods\n",
       "1      M4A        North York  Victoria Village\n",
       "2      M5A  Downtown Toronto      Harbourfront\n",
       "3      M6A        North York  Lawrence Heights\n",
       "4      M6A        North York    Lawrence Manor"
      ]
     },
     "execution_count": 8,
     "metadata": {},
     "output_type": "execute_result"
    }
   ],
   "source": [
    "process_table = table[table['Borough']!='Not assigned'].reset_index().drop('index', axis=1)\n",
    "process_table.head()"
   ]
  },
  {
   "cell_type": "code",
   "execution_count": 9,
   "metadata": {},
   "outputs": [
    {
     "data": {
      "text/plain": [
       "array(['North York', 'Downtown Toronto', \"Queen's Park\", 'Scarborough',\n",
       "       'East York', 'Etobicoke', 'York', 'East Toronto', 'West Toronto',\n",
       "       'Central Toronto', 'Mississauga'], dtype=object)"
      ]
     },
     "execution_count": 9,
     "metadata": {},
     "output_type": "execute_result"
    }
   ],
   "source": [
    "process_table['Borough'].unique()"
   ]
  },
  {
   "cell_type": "markdown",
   "metadata": {},
   "source": [
    "### Join the Neighborhood based on similar Postcode with seperated units = ','"
   ]
  },
  {
   "cell_type": "code",
   "execution_count": 10,
   "metadata": {},
   "outputs": [
    {
     "data": {
      "text/html": [
       "<div>\n",
       "<style scoped>\n",
       "    .dataframe tbody tr th:only-of-type {\n",
       "        vertical-align: middle;\n",
       "    }\n",
       "\n",
       "    .dataframe tbody tr th {\n",
       "        vertical-align: top;\n",
       "    }\n",
       "\n",
       "    .dataframe thead th {\n",
       "        text-align: right;\n",
       "    }\n",
       "</style>\n",
       "<table border=\"1\" class=\"dataframe\">\n",
       "  <thead>\n",
       "    <tr style=\"text-align: right;\">\n",
       "      <th></th>\n",
       "      <th>Postcode</th>\n",
       "      <th>Borough</th>\n",
       "      <th>Neighborhood</th>\n",
       "    </tr>\n",
       "  </thead>\n",
       "  <tbody>\n",
       "    <tr>\n",
       "      <th>0</th>\n",
       "      <td>M1B</td>\n",
       "      <td>Scarborough</td>\n",
       "      <td>Rouge,Malvern</td>\n",
       "    </tr>\n",
       "    <tr>\n",
       "      <th>1</th>\n",
       "      <td>M1C</td>\n",
       "      <td>Scarborough</td>\n",
       "      <td>Highland Creek,Rouge Hill,Port Union</td>\n",
       "    </tr>\n",
       "    <tr>\n",
       "      <th>2</th>\n",
       "      <td>M1E</td>\n",
       "      <td>Scarborough</td>\n",
       "      <td>Guildwood,Morningside,West Hill</td>\n",
       "    </tr>\n",
       "    <tr>\n",
       "      <th>3</th>\n",
       "      <td>M1G</td>\n",
       "      <td>Scarborough</td>\n",
       "      <td>Woburn</td>\n",
       "    </tr>\n",
       "    <tr>\n",
       "      <th>4</th>\n",
       "      <td>M1H</td>\n",
       "      <td>Scarborough</td>\n",
       "      <td>Cedarbrae</td>\n",
       "    </tr>\n",
       "  </tbody>\n",
       "</table>\n",
       "</div>"
      ],
      "text/plain": [
       "  Postcode      Borough                          Neighborhood\n",
       "0      M1B  Scarborough                         Rouge,Malvern\n",
       "1      M1C  Scarborough  Highland Creek,Rouge Hill,Port Union\n",
       "2      M1E  Scarborough       Guildwood,Morningside,West Hill\n",
       "3      M1G  Scarborough                                Woburn\n",
       "4      M1H  Scarborough                             Cedarbrae"
      ]
     },
     "execution_count": 10,
     "metadata": {},
     "output_type": "execute_result"
    }
   ],
   "source": [
    "df = pd.DataFrame(process_table.groupby(['Postcode','Borough'])['Neighborhood'].apply(','.join)).reset_index()\n",
    "df.head()"
   ]
  },
  {
   "cell_type": "markdown",
   "metadata": {},
   "source": [
    "### Change the 'Not assigned' on 'Neighborhood' columns = values in 'Borough' colunmns"
   ]
  },
  {
   "cell_type": "code",
   "execution_count": 11,
   "metadata": {},
   "outputs": [],
   "source": [
    "df.loc[df['Neighborhood']=='Not assigned','Neighborhood'] = df.loc[df['Neighborhood']=='Not assigned','Borough']"
   ]
  },
  {
   "cell_type": "code",
   "execution_count": 13,
   "metadata": {
    "scrolled": true
   },
   "outputs": [
    {
     "data": {
      "text/plain": [
       "(103, 3)"
      ]
     },
     "execution_count": 13,
     "metadata": {},
     "output_type": "execute_result"
    }
   ],
   "source": [
    "df.shape"
   ]
  },
  {
   "cell_type": "markdown",
   "metadata": {},
   "source": [
    "### Use beautiful soup"
   ]
  },
  {
   "cell_type": "code",
   "execution_count": 15,
   "metadata": {},
   "outputs": [],
   "source": [
    "from bs4 import BeautifulSoup\n",
    "import requests"
   ]
  },
  {
   "cell_type": "code",
   "execution_count": 19,
   "metadata": {},
   "outputs": [],
   "source": [
    "page_response = requests.get(url)\n",
    "page_content = BeautifulSoup(page_response.content,'html.parser')"
   ]
  },
  {
   "cell_type": "code",
   "execution_count": 43,
   "metadata": {},
   "outputs": [],
   "source": [
    "table = page_content.find('table',{'class':'wikitable sortable'})\n",
    "rows = table.find_all('tr')\n",
    "raw_df = pd.DataFrame(columns=['PostalCode', 'Borough', 'Neighborhood'])"
   ]
  },
  {
   "cell_type": "code",
   "execution_count": 49,
   "metadata": {},
   "outputs": [
    {
     "data": {
      "text/html": [
       "<div>\n",
       "<style scoped>\n",
       "    .dataframe tbody tr th:only-of-type {\n",
       "        vertical-align: middle;\n",
       "    }\n",
       "\n",
       "    .dataframe tbody tr th {\n",
       "        vertical-align: top;\n",
       "    }\n",
       "\n",
       "    .dataframe thead th {\n",
       "        text-align: right;\n",
       "    }\n",
       "</style>\n",
       "<table border=\"1\" class=\"dataframe\">\n",
       "  <thead>\n",
       "    <tr style=\"text-align: right;\">\n",
       "      <th></th>\n",
       "      <th>PostalCode</th>\n",
       "      <th>Borough</th>\n",
       "      <th>Neighborhood</th>\n",
       "    </tr>\n",
       "  </thead>\n",
       "  <tbody>\n",
       "    <tr>\n",
       "      <th>0</th>\n",
       "      <td>M3A</td>\n",
       "      <td>North York</td>\n",
       "      <td>Parkwoods</td>\n",
       "    </tr>\n",
       "    <tr>\n",
       "      <th>1</th>\n",
       "      <td>M4A</td>\n",
       "      <td>North York</td>\n",
       "      <td>Victoria Village</td>\n",
       "    </tr>\n",
       "    <tr>\n",
       "      <th>2</th>\n",
       "      <td>M5A</td>\n",
       "      <td>Downtown Toronto</td>\n",
       "      <td>Harbourfront</td>\n",
       "    </tr>\n",
       "    <tr>\n",
       "      <th>3</th>\n",
       "      <td>M6A</td>\n",
       "      <td>North York</td>\n",
       "      <td>Lawrence Heights</td>\n",
       "    </tr>\n",
       "    <tr>\n",
       "      <th>4</th>\n",
       "      <td>M6A</td>\n",
       "      <td>North York</td>\n",
       "      <td>Lawrence Manor</td>\n",
       "    </tr>\n",
       "  </tbody>\n",
       "</table>\n",
       "</div>"
      ],
      "text/plain": [
       "  PostalCode           Borough      Neighborhood\n",
       "0        M3A        North York         Parkwoods\n",
       "1        M4A        North York  Victoria Village\n",
       "2        M5A  Downtown Toronto      Harbourfront\n",
       "3        M6A        North York  Lawrence Heights\n",
       "4        M6A        North York    Lawrence Manor"
      ]
     },
     "execution_count": 49,
     "metadata": {},
     "output_type": "execute_result"
    }
   ],
   "source": [
    "for row in rows:\n",
    "    row_items = row.find_all('td')\n",
    "    if len(row_items) > 0:\n",
    "        postcode = row_items[0].text.strip()\n",
    "        borough = row_items[1].text.strip()\n",
    "        if borough.lower() != 'not assigned':\n",
    "            neighborhood = row_items[2].text.strip()\n",
    "            raw_df = raw_df.append({'PostalCode':postcode, \n",
    "                                    'Borough':borough, \n",
    "                                    'Neighborhood':neighborhood}, \n",
    "                                   ignore_index = True)\n",
    "raw_df.head()"
   ]
  },
  {
   "cell_type": "markdown",
   "metadata": {},
   "source": []
  }
 ],
 "metadata": {
  "kernelspec": {
   "display_name": "Python 3.6",
   "language": "python",
   "name": "python3"
  },
  "language_info": {
   "codemirror_mode": {
    "name": "ipython",
    "version": 3
   },
   "file_extension": ".py",
   "mimetype": "text/x-python",
   "name": "python",
   "nbconvert_exporter": "python",
   "pygments_lexer": "ipython3",
   "version": "3.6.8"
  }
 },
 "nbformat": 4,
 "nbformat_minor": 1
}
