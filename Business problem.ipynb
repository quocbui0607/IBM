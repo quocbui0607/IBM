{
 "cells": [
  {
   "cell_type": "markdown",
   "metadata": {
    "collapsed": true
   },
   "source": [
    "## Introduction/Business Problem"
   ]
  },
  {
   "cell_type": "markdown",
   "metadata": {},
   "source": [
    "**My brother ask me to open a store in Toronto. So, I want to find out if opening a store in the Toronto, CA is a good idea.\n",
    "So I will start from collecting the venues which is a store or a shop surrounding Toronto. After doing this, I will merge this table with the Toronto table which was used in Coursera Week 3.\n",
    "Afterwards, I will count how many store/shop in Toronto, CA. Based on the value of each store/shop category, I will recommend which category of shops should be opened in Toronto for my brother.**"
   ]
  },
  {
   "cell_type": "code",
   "execution_count": null,
   "metadata": {},
   "outputs": [],
   "source": []
  }
 ],
 "metadata": {
  "kernelspec": {
   "display_name": "Python 3.6",
   "language": "python",
   "name": "python3"
  },
  "language_info": {
   "codemirror_mode": {
    "name": "ipython",
    "version": 3
   },
   "file_extension": ".py",
   "mimetype": "text/x-python",
   "name": "python",
   "nbconvert_exporter": "python",
   "pygments_lexer": "ipython3",
   "version": "3.6.8"
  }
 },
 "nbformat": 4,
 "nbformat_minor": 1
}
